{
  "nbformat": 4,
  "nbformat_minor": 0,
  "metadata": {
    "colab": {
      "name": "CNS.ipynb",
      "provenance": [],
      "collapsed_sections": [],
      "toc_visible": true
    },
    "kernelspec": {
      "name": "python3",
      "display_name": "Python 3"
    }
  },
  "cells": [
    {
      "cell_type": "markdown",
      "metadata": {
        "id": "0s2AUoTgAB0W",
        "colab_type": "text"
      },
      "source": [
        "#IMPORTS AND INSTALLATIONS"
      ]
    },
    {
      "cell_type": "code",
      "metadata": {
        "id": "YLyPx4QGYANV",
        "colab_type": "code",
        "outputId": "c3e1bd8a-84d3-49f6-d638-7b02f95354c1",
        "colab": {
          "base_uri": "https://localhost:8080/",
          "height": 54
        }
      },
      "source": [
        "from google.colab import drive\n",
        "drive.mount('/content/gdrive')\n",
        "\n"
      ],
      "execution_count": 0,
      "outputs": [
        {
          "output_type": "stream",
          "text": [
            "Drive already mounted at /content/gdrive; to attempt to forcibly remount, call drive.mount(\"/content/gdrive\", force_remount=True).\n"
          ],
          "name": "stdout"
        }
      ]
    },
    {
      "cell_type": "code",
      "metadata": {
        "id": "h4iCOC7xtqvP",
        "colab_type": "code",
        "colab": {}
      },
      "source": [
        "import pandas as pd\n",
        "import matplotlib.pyplot as plt\n",
        "%config InlineBackend.figure_format = 'retina'\n",
        "%matplotlib inline\n",
        "import plotly.graph_objects as go\n",
        "from plotly.offline import iplot\n",
        "import seaborn as sns"
      ],
      "execution_count": 0,
      "outputs": []
    },
    {
      "cell_type": "markdown",
      "metadata": {
        "id": "RhllV2t2ebfj",
        "colab_type": "text"
      },
      "source": [
        "#DATA DOWNLOAD\n"
      ]
    },
    {
      "cell_type": "markdown",
      "metadata": {
        "id": "szWgvpGVeL0E",
        "colab_type": "text"
      },
      "source": [
        "DOWNLOADED from http://www.cs.toronto.edu/~complingweb/data/karaOne/karaOne.html"
      ]
    },
    {
      "cell_type": "code",
      "metadata": {
        "id": "0ZJWTp7xY_LH",
        "colab_type": "code",
        "colab": {}
      },
      "source": [
        "!wget -O /content/gdrive/My\\ Drive/CNS/MM05.tar.bz2 http://www.cs.toronto.edu/~complingweb/data/karaOne/MM05.tar.bz2\n",
        "!wget -O /content/gdrive/My\\ Drive/CNS/MM08.tar.bz2 http://www.cs.toronto.edu/~complingweb/data/karaOne/MM08.tar.bz2\n",
        "!wget -O /content/gdrive/My\\ Drive/CNS/MM09.tar.bz2 http://www.cs.toronto.edu/~complingweb/data/karaOne/MM09.tar.bz2\n",
        "!wget -O /content/gdrive/My\\ Drive/CNS/MM10.tar.bz2 http://www.cs.toronto.edu/~complingweb/data/karaOne/MM10.tar.bz2\n",
        "!wget -O /content/gdrive/My\\ Drive/CNS/MM11.tar.bz2 http://www.cs.toronto.edu/~complingweb/data/karaOne/MM11.tar.bz2\n",
        "!wget -O /content/gdrive/My\\ Drive/CNS/MM12.tar.bz2 http://www.cs.toronto.edu/~complingweb/data/karaOne/MM12.tar.bz2\n",
        "!wget -O /content/gdrive/My\\ Drive/CNS/MM14.tar.bz2 http://www.cs.toronto.edu/~complingweb/data/karaOne/MM14.tar.bz2\n",
        "!wget -O /content/gdrive/My\\ Drive/CNS/MM15.tar.bz2 http://www.cs.toronto.edu/~complingweb/data/karaOne/MM15.tar.bz2\n",
        "!wget -O /content/gdrive/My\\ Drive/CNS/MM16.tar.bz2 http://www.cs.toronto.edu/~complingweb/data/karaOne/MM16.tar.bz2\n",
        "!wget -O /content/gdrive/My\\ Drive/CNS/MM18.tar.bz2 http://www.cs.toronto.edu/~complingweb/data/karaOne/MM18.tar.bz2\n",
        "!wget -O /content/gdrive/My\\ Drive/CNS/MM19.tar.bz2 http://www.cs.toronto.edu/~complingweb/data/karaOne/MM19.tar.bz2\n",
        "!wget -O /content/gdrive/My\\ Drive/CNS/MM20.tar.bz2 http://www.cs.toronto.edu/~complingweb/data/karaOne/MM20.tar.bz2\n",
        "!wget -O /content/gdrive/My\\ Drive/CNS/MM21.tar.bz2 http://www.cs.toronto.edu/~complingweb/data/karaOne/MM21.tar.bz2"
      ],
      "execution_count": 0,
      "outputs": []
    },
    {
      "cell_type": "markdown",
      "metadata": {
        "id": "tSRJCG0UeW8X",
        "colab_type": "text"
      },
      "source": [
        "EXTRACTION"
      ]
    },
    {
      "cell_type": "code",
      "metadata": {
        "id": "Y870_R2HZKkz",
        "colab_type": "code",
        "colab": {}
      },
      "source": [
        "!tar -xvjf /content/gdrive/My\\ Drive/CNS/MM05.tar.bz2 -C /content/gdrive/My\\ Drive/CNS/\n",
        "!tar -xvjf /content/gdrive/My\\ Drive/CNS/MM08.tar.bz2 -C /content/gdrive/My\\ Drive/CNS/\n",
        "!tar -xvjf /content/gdrive/My\\ Drive/CNS/MM09.tar.bz2 -C /content/gdrive/My\\ Drive/CNS/\n",
        "!tar -xvjf /content/gdrive/My\\ Drive/CNS/MM10.tar.bz2 -C /content/gdrive/My\\ Drive/CNS/\n",
        "!tar -xvjf /content/gdrive/My\\ Drive/CNS/MM11.tar.bz2 -C /content/gdrive/My\\ Drive/CNS/\n",
        "!tar -xvjf /content/gdrive/My\\ Drive/CNS/MM12.tar.bz2 -C /content/gdrive/My\\ Drive/CNS/\n",
        "!tar -xvjf /content/gdrive/My\\ Drive/CNS/MM14.tar.bz2 -C /content/gdrive/My\\ Drive/CNS/\n",
        "!tar -xvjf /content/gdrive/My\\ Drive/CNS/MM15.tar.bz2 -C /content/gdrive/My\\ Drive/CNS/\n",
        "!tar -xvjf /content/gdrive/My\\ Drive/CNS/MM16.tar.bz2 -C /content/gdrive/My\\ Drive/CNS/\n",
        "!tar -xvjf /content/gdrive/My\\ Drive/CNS/MM18.tar.bz2 -C /content/gdrive/My\\ Drive/CNS/\n",
        "!tar -xvjf /content/gdrive/My\\ Drive/CNS/MM19.tar.bz2 -C /content/gdrive/My\\ Drive/CNS/\n",
        "!tar -xvjf /content/gdrive/My\\ Drive/CNS/MM20.tar.bz2 -C /content/gdrive/My\\ Drive/CNS/\n",
        "!tar -xvjf /content/gdrive/My\\ Drive/CNS/MM21.tar.bz2 -C /content/gdrive/My\\ Drive/CNS/"
      ],
      "execution_count": 0,
      "outputs": []
    },
    {
      "cell_type": "code",
      "metadata": {
        "id": "Dbjbyuu__EpI",
        "colab_type": "code",
        "colab": {}
      },
      "source": [
        "!wget -O /content/gdrive/My\\ Drive/CNS/P02.tar.bz2 http://www.cs.toronto.edu/~complingweb/data/karaOne/P02.tar.bz2"
      ],
      "execution_count": 0,
      "outputs": []
    },
    {
      "cell_type": "markdown",
      "metadata": {
        "id": "kKhzXoMxBICa",
        "colab_type": "text"
      },
      "source": [
        "#PATH"
      ]
    },
    {
      "cell_type": "code",
      "metadata": {
        "id": "QB052ILOBO33",
        "colab_type": "code",
        "colab": {}
      },
      "source": [
        "gpath = '/content/gdrive/My Drive/CNS/p/spoclab/users/szhao/EEG/data/'"
      ],
      "execution_count": 0,
      "outputs": []
    },
    {
      "cell_type": "markdown",
      "metadata": {
        "id": "4bo-1vhYDKa-",
        "colab_type": "text"
      },
      "source": [
        "#LOADMAT"
      ]
    },
    {
      "cell_type": "code",
      "metadata": {
        "id": "JnnQY0heEyme",
        "colab_type": "code",
        "colab": {}
      },
      "source": [
        "from scipy.io import loadmat\n",
        "data = loadmat(gpath + 'MM05/eeg_data/data.mat')\n",
        "img_epoch = loadmat(gpath + 'MM05/eeg_data/thinking_inds.mat')\n",
        "words = loadmat(gpath + 'MM05/eeg_data/words.mat')"
      ],
      "execution_count": 0,
      "outputs": []
    },
    {
      "cell_type": "code",
      "metadata": {
        "id": "iDTWio1cSG5e",
        "colab_type": "code",
        "colab": {}
      },
      "source": [
        "words = words['all_features'][0][0][5][0]#contain the word files"
      ],
      "execution_count": 0,
      "outputs": []
    },
    {
      "cell_type": "code",
      "metadata": {
        "id": "9KdNw2nUB08q",
        "colab_type": "code",
        "outputId": "93b0fef7-ec5b-4b7e-d6af-69f50fb014c9",
        "colab": {
          "base_uri": "https://localhost:8080/",
          "height": 34
        }
      },
      "source": [
        "words[0][0]"
      ],
      "execution_count": 0,
      "outputs": [
        {
          "output_type": "execute_result",
          "data": {
            "text/plain": [
              "'/uw/'"
            ]
          },
          "metadata": {
            "tags": []
          },
          "execution_count": 17
        }
      ]
    },
    {
      "cell_type": "code",
      "metadata": {
        "id": "wEAQ5WzSBk9R",
        "colab_type": "code",
        "colab": {}
      },
      "source": [
        "label_loader = []\n",
        "for i in range(len(words)):\n",
        "  for k in range(20):\n",
        "    label_loader.append(words[i][0])"
      ],
      "execution_count": 0,
      "outputs": []
    },
    {
      "cell_type": "code",
      "metadata": {
        "id": "w39ow2YtB9Lu",
        "colab_type": "code",
        "outputId": "a0f28174-45e4-41e2-8972-807193406a62",
        "colab": {
          "base_uri": "https://localhost:8080/",
          "height": 34
        }
      },
      "source": [
        "len(label_loader)"
      ],
      "execution_count": 0,
      "outputs": [
        {
          "output_type": "execute_result",
          "data": {
            "text/plain": [
              "3300"
            ]
          },
          "metadata": {
            "tags": []
          },
          "execution_count": 19
        }
      ]
    },
    {
      "cell_type": "code",
      "metadata": {
        "id": "XL3GgQgqSzVB",
        "colab_type": "code",
        "outputId": "b268571c-a45c-45bc-f730-8a23dff1a62c",
        "colab": {
          "base_uri": "https://localhost:8080/",
          "height": 34
        }
      },
      "source": [
        "inds = img_epoch['thinking_inds'][0]#thinking ephochs data\n",
        "inds[0][0][1]"
      ],
      "execution_count": 0,
      "outputs": [
        {
          "output_type": "execute_result",
          "data": {
            "text/plain": [
              "20227"
            ]
          },
          "metadata": {
            "tags": []
          },
          "execution_count": 20
        }
      ]
    },
    {
      "cell_type": "code",
      "metadata": {
        "id": "wikPJo2tGP6M",
        "colab_type": "code",
        "colab": {}
      },
      "source": [
        "eeg = data['EEG'][0][0][15] #the total data 62*247740"
      ],
      "execution_count": 0,
      "outputs": []
    },
    {
      "cell_type": "code",
      "metadata": {
        "id": "xm-VH38cQaoY",
        "colab_type": "code",
        "outputId": "be72fb31-9bf3-4652-d77c-9755ffbf261a",
        "colab": {
          "base_uri": "https://localhost:8080/",
          "height": 34
        }
      },
      "source": [
        "len(eeg)"
      ],
      "execution_count": 0,
      "outputs": [
        {
          "output_type": "execute_result",
          "data": {
            "text/plain": [
              "62"
            ]
          },
          "metadata": {
            "tags": []
          },
          "execution_count": 22
        }
      ]
    },
    {
      "cell_type": "code",
      "metadata": {
        "id": "6SGmFEact77f",
        "colab_type": "code",
        "colab": {}
      },
      "source": [
        "epoch = []\n",
        "data_loader = []\n",
        "for j in range(165):\n",
        "  for k in range(20):\n",
        "    for i in range(62):\n",
        "      data = eeg[i][inds[j][0][0] + 250*k:inds[j][0][0]+250*k + 500]\n",
        "      epoch.append(data)\n",
        "    epoch = [epoch]\n",
        "    data_loader.append(epoch)\n"
      ],
      "execution_count": 0,
      "outputs": []
    },
    {
      "cell_type": "code",
      "metadata": {
        "id": "hGdJC1ru1uYb",
        "colab_type": "code",
        "outputId": "9fcd619a-aada-414d-ad88-e23012ba5397",
        "colab": {
          "base_uri": "https://localhost:8080/",
          "height": 34
        }
      },
      "source": [
        "len(data_loader)"
      ],
      "execution_count": 0,
      "outputs": [
        {
          "output_type": "execute_result",
          "data": {
            "text/plain": [
              "3300"
            ]
          },
          "metadata": {
            "tags": []
          },
          "execution_count": 24
        }
      ]
    },
    {
      "cell_type": "code",
      "metadata": {
        "id": "f4umJyjvCSbf",
        "colab_type": "code",
        "outputId": "10f59162-6c88-4383-b834-951f0b0ab443",
        "colab": {
          "base_uri": "https://localhost:8080/",
          "height": 34
        }
      },
      "source": [
        "len(data_loader[0][0])"
      ],
      "execution_count": 0,
      "outputs": [
        {
          "output_type": "execute_result",
          "data": {
            "text/plain": [
              "62"
            ]
          },
          "metadata": {
            "tags": []
          },
          "execution_count": 36
        }
      ]
    },
    {
      "cell_type": "code",
      "metadata": {
        "id": "jNNuxW-rk2_T",
        "colab_type": "code",
        "colab": {}
      },
      "source": [
        "165*20"
      ],
      "execution_count": 0,
      "outputs": []
    },
    {
      "cell_type": "code",
      "metadata": {
        "id": "tbs705Euqb0l",
        "colab_type": "code",
        "outputId": "1dd06b0e-5c74-41af-b615-411f66931bde",
        "colab": {
          "base_uri": "https://localhost:8080/",
          "height": 1000
        }
      },
      "source": [
        "data_loader[0][1]"
      ],
      "execution_count": 0,
      "outputs": [
        {
          "output_type": "execute_result",
          "data": {
            "text/plain": [
              "array([  -6.8243437 ,   -6.768199  ,   -6.5645723 ,   -6.2159996 ,\n",
              "         -5.7213225 ,   -5.076694  ,   -4.2775245 ,   -3.3225791 ,\n",
              "         -2.2168944 ,   -0.97545016,    0.3753612 ,    1.7956339 ,\n",
              "          3.2326624 ,    4.623284  ,    5.8973856 ,    6.9832296 ,\n",
              "          7.813618  ,    8.332271  ,    8.499817  ,    8.297665  ,\n",
              "          7.73079   ,    6.8297076 ,    5.648587  ,    4.2613974 ,\n",
              "          2.7575784 ,    1.2343702 ,   -0.21069992,   -1.4866636 ,\n",
              "         -2.515666  ,   -3.2376134 ,   -3.6157155 ,   -3.6397033 ,\n",
              "         -3.3260958 ,   -2.7157202 ,   -1.8692225 ,   -0.86116916,\n",
              "          0.22753176,    1.3160805 ,    2.330077  ,    3.2067378 ,\n",
              "          3.8992178 ,    4.38055   ,    4.643784  ,    4.699736  ,\n",
              "          4.574594  ,    4.3052506 ,    3.9345796 ,    3.5065527 ,\n",
              "          3.0619903 ,    2.6354518 ,    2.252939  ,    1.9310393 ,\n",
              "          1.6780869 ,    1.4954197 ,    1.3790226 ,    1.3226225 ,\n",
              "          1.3207392 ,    1.3723923 ,    1.4832327 ,    1.6657826 ,\n",
              "          1.9390075 ,    2.3257477 ,    2.849798  ,    3.5326138 ,\n",
              "          4.3883667 ,    5.4186172 ,    6.6081557 ,    7.9223886 ,\n",
              "          9.307494  ,   10.691753  ,   11.991172  ,   13.113952  ,\n",
              "         13.968281  ,   14.470149  ,   14.551575  ,   14.168439  ,\n",
              "         13.306188  ,   11.98358   ,   10.254198  ,    8.203548  ,\n",
              "          5.9446015 ,    3.6096673 ,    1.3401906 ,   -0.7236107 ,\n",
              "         -2.453101  ,   -3.7420034 ,   -4.513458  ,   -4.725045  ,\n",
              "         -4.371754  ,   -3.4861577 ,   -2.1360896 ,   -0.4179994 ,\n",
              "          1.5527759 ,    3.6529605 ,    5.7621536 ,    7.7719345 ,\n",
              "          9.594526  ,   11.167542  ,   12.456732  ,   13.455912  ,\n",
              "         14.183464  ,   14.676781  ,   14.983394  ,   15.153036  ,\n",
              "         15.230855  ,   15.25061   ,   15.230153  ,   15.169173  ,\n",
              "         15.048718  ,   14.834075  ,   14.480305  ,   13.939573  ,\n",
              "         13.169451  ,   12.140391  ,   10.842791  ,    9.292655  ,\n",
              "          7.5339203 ,    5.638109  ,    3.699983  ,    1.8316023 ,\n",
              "          0.15481028,   -1.2094569 ,   -2.1515071 ,   -2.5819795 ,\n",
              "         -2.4411578 ,   -1.7058405 ,   -0.39293766,    1.4391426 ,\n",
              "          3.693754  ,    6.242334  ,    8.933511  ,   11.599836  ,\n",
              "         14.069602  ,   16.18054   ,   17.792995  ,   18.799458  ,\n",
              "         19.132534  ,   18.771267  ,   17.742744  ,   16.118341  ,\n",
              "         14.00663   ,   11.54257   ,    8.877593  ,    6.1688414 ,\n",
              "          3.5680907 ,    1.2095486 ,   -0.798424  ,   -2.380144  ,\n",
              "         -3.4963348 ,   -4.1451373 ,   -4.3591785 ,   -4.200171  ,\n",
              "         -3.7522404 ,   -3.1140602 ,   -2.3901887 ,   -1.6820049 ,\n",
              "         -1.0792301 ,   -0.6539408 ,   -0.45579147,   -0.5095912 ,\n",
              "         -0.8153735 ,   -1.3504517 ,   -2.073302  ,   -2.9291015 ,\n",
              "         -3.855971  ,   -4.791678  ,   -5.6800003 ,   -6.4750943 ,\n",
              "         -7.145841  ,   -7.677102  ,   -8.069801  ,   -8.339291  ,\n",
              "         -8.511938  ,   -8.620996  ,   -8.70198   ,   -8.787596  ,\n",
              "         -8.903476  ,   -9.063392  ,   -9.267047  ,   -9.498998  ,\n",
              "         -9.730255  ,   -9.921788  ,  -10.028469  ,  -10.003794  ,\n",
              "         -9.807629  ,   -9.412686  ,   -8.808909  ,   -8.007433  ,\n",
              "         -7.0406036 ,   -5.962413  ,   -4.848118  ,   -3.7916255 ,\n",
              "         -2.8958228 ,   -2.2624118 ,   -1.9859115 ,   -2.1492245 ,\n",
              "         -2.8174467 ,   -4.0332212 ,   -5.8169584 ,   -8.16935   ,\n",
              "        -11.074244  ,  -14.498558  ,  -18.392317  ,  -22.691658  ,\n",
              "        -27.323927  ,  -32.213455  ,  -37.284145  ,  -42.462982  ,\n",
              "        -47.68421   ,  -52.89216   ,  -58.042587  ,  -63.102615  ,\n",
              "        -68.049416  ,  -72.866455  ,  -77.54017   ,  -82.056335  ,\n",
              "        -86.39905   ,  -90.54831   ,  -94.47862   ,  -98.15776   ,\n",
              "       -101.54758   , -104.6052    , -107.284004  , -109.53562   ,\n",
              "       -111.311325  , -112.565056  , -113.25602   , -113.35027   ,\n",
              "       -112.82382   , -111.66278   , -109.862854  , -107.427986  ,\n",
              "       -104.36937   , -100.705666  ,  -96.46222   ,  -91.67      ,\n",
              "        -86.36431   ,  -80.5845    ,  -74.37557   ,  -67.78885   ,\n",
              "        -60.884014  ,  -53.7299    ,  -46.404358  ,  -38.99346   ,\n",
              "        -31.59129   ,  -24.297293  ,  -17.21307   ,  -10.438433  ,\n",
              "         -4.066096  ,    1.8225535 ,    7.162519  ,   11.911556  ,\n",
              "         16.05471   ,   19.606056  ,   22.607016  ,   25.124512  ,\n",
              "         27.247604  ,   29.08188   ,   30.740543  ,   32.336105  ,\n",
              "         33.973484  ,   35.743782  ,   37.71528   ,   39.926758  ,\n",
              "         42.38116   ,   45.043793  ,   47.84442   ,   50.682556  ,\n",
              "         53.43506   ,   55.967884  ,   58.148495  ,   59.8585    ,\n",
              "         61.0043    ,   61.526077  ,   61.40283   ,   60.655094  ,\n",
              "         59.344     ,   57.568577  ,   55.456844  ,   53.155235  ,\n",
              "         50.81554   ,   48.583084  ,   46.58544   ,   44.92215   ,\n",
              "         43.657764  ,   42.817696  ,   42.389038  ,   42.324448  ,\n",
              "         42.548286  ,   42.96647   ,   43.47748   ,   43.982605  ,\n",
              "         44.39467   ,   44.645233  ,   44.690735  ,   44.51575   ,\n",
              "         44.13229   ,   43.576187  ,   42.90096   ,   42.1709    ,\n",
              "         41.453274  ,   40.811333  ,   40.297882  ,   39.949398  ,\n",
              "         39.781757  ,   39.78987   ,   39.949112  ,   40.219242  ,\n",
              "         40.549232  ,   40.88168   ,   41.157497  ,   41.32051   ,\n",
              "         41.32099   ,   41.120808  ,   40.694653  ,   40.030735  ,\n",
              "         39.12969   ,   38.003407  ,   36.672565  ,   35.16604   ,\n",
              "         33.51957   ,   31.773787  ,   29.973013  ,   28.165573  ,\n",
              "         26.402218  ,   24.737373  ,   23.229328  ,   21.939283  ,\n",
              "         20.928263  ,   20.252989  ,   19.961082  ,   20.086275  ,\n",
              "         20.643387  ,   21.624367  ,   22.99556   ,   24.696932  ,\n",
              "         26.642645  ,   28.722588  ,   30.806221  ,   32.750587  ,\n",
              "         34.409748  ,   35.645756  ,   36.33933   ,   36.399487  ,\n",
              "         35.77227   ,   34.445854  ,   32.454094  ,   29.87633   ,\n",
              "         26.833134  ,   23.478912  ,   19.99199   ,   16.561485  ,\n",
              "         13.373465  ,   10.5978    ,    8.376363  ,    6.8136463 ,\n",
              "          5.969519  ,    5.8568587 ,    6.4406796 ,    7.6428833 ,\n",
              "          9.349555  ,   11.420458  ,   13.7001705 ,   16.029306  ,\n",
              "         18.256943  ,   20.251657  ,   21.90901   ,   23.156332  ,\n",
              "         23.954695  ,   24.297194  ,   24.206093  ,   23.728924  ,\n",
              "         22.93354   ,   21.901276  ,   20.717525  ,   19.46485   ,\n",
              "         18.216436  ,   17.031504  ,   15.953012  ,   15.0065565 ,\n",
              "         14.199927  ,   13.525435  ,   12.9638815 ,   12.488916  ,\n",
              "         12.071611  ,   11.68468   ,   11.306281  ,   10.922426  ,\n",
              "         10.529541  ,   10.135355  ,    9.759189  ,    9.430266  ,\n",
              "          9.184003  ,    9.0588455 ,    9.091748  ,    9.3133745 ,\n",
              "          9.74386   ,   10.3887005 ,   11.237087  ,   12.261117  ,\n",
              "         13.4156275 ,   14.640059  ,   15.860893  ,   16.996098  ,\n",
              "         17.960756  ,   18.67249   ,   19.058775  ,   19.061716  ,\n",
              "         18.642883  ,   17.78637   ,   16.501318  ,   14.8224125 ,\n",
              "         12.809323  ,   10.54455   ,    8.129228  ,    5.677704  ,\n",
              "          3.31061   ,    1.1467625 ,   -0.7052276 ,   -2.1531324 ,\n",
              "         -3.1270685 ,   -3.5841157 ,   -3.5112946 ,   -2.9266052 ,\n",
              "         -1.8768284 ,   -0.43491113,    1.304362  ,    3.2307322 ,\n",
              "          5.225695  ,    7.169688  ,    8.950495  ,   10.470534  ,\n",
              "         11.651914  ,   12.439429  ,   12.802999  ,   12.7386055 ,\n",
              "         12.267373  ,   11.43247   ,   10.295292  ,    8.929623  ,\n",
              "          7.4167914 ,    5.8402677 ,    4.2802877 ,    2.8091464 ,\n",
              "          1.4874717 ,    0.3605322 ,   -0.5424945 ,   -1.2094945 ,\n",
              "         -1.6445906 ,   -1.8672354 ,   -1.9093971 ,   -1.8119769 ,\n",
              "         -1.6204584 ,   -1.3796163 ,   -1.130349  ,   -0.9055893 ,\n",
              "         -0.7270287 ,   -0.60385466,   -0.53204066,   -0.49545252,\n",
              "         -0.46873438,   -0.42114487,   -0.32135326,   -0.14076582,\n",
              "          0.14229594,    0.53999585,    1.0528809 ,    1.6684272 ,\n",
              "          2.3619885 ,    3.0971558 ,    3.8295772 ,    4.510091  ,\n",
              "          5.0875716 ,    5.5121574 ,    5.738362  ,    5.7285624 ,\n",
              "          5.4565434 ,    4.909936  ,    4.092935  ,    3.026709  ,\n",
              "          1.7481735 ,    0.30795294,   -1.2323455 ,   -2.803667  ,\n",
              "         -4.332805  ,   -5.747645  ,   -6.981918  ,   -7.9791684 ,\n",
              "         -8.696702  ,   -9.108294  ,   -9.205459  ,   -8.998373  ,\n",
              "         -8.515505  ,   -7.8016405 ,   -6.9144006 ,   -5.920272  ,\n",
              "         -4.8896966 ,   -3.8925252 ,   -2.9920976 ,   -2.2400136 ],\n",
              "      dtype=float32)"
            ]
          },
          "metadata": {
            "tags": []
          },
          "execution_count": 35
        }
      ]
    },
    {
      "cell_type": "code",
      "metadata": {
        "id": "fEdra4P4qk9C",
        "colab_type": "code",
        "colab": {}
      },
      "source": [
        ""
      ],
      "execution_count": 0,
      "outputs": []
    }
  ]
}